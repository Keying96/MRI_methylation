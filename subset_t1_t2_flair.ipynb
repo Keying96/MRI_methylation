{
 "cells": [
  {
   "cell_type": "code",
   "execution_count": null,
   "metadata": {},
   "outputs": [],
   "source": [
    "import os\n",
    "import shutil"
   ]
  },
  {
   "cell_type": "code",
   "execution_count": null,
   "metadata": {},
   "outputs": [],
   "source": [
    "mri_sequence = ['T1','T2','FLAIR']\n",
    "path_to_tcga_gbm = '/external_drive/MRI_Deep_Learning/TCGA-GBM'\n",
    "for patient in os.listdir(path_to_tcga_gbm):\n",
    "    for study in os.listdir(path_to_tcga_gbm+'/'+patient):\n",
    "        for mri in os.listdir(path_to_tcga_gbm+'/'+patient+'/'+study):\n",
    "            if not any(i in mri for i in mri_sequence):\n",
    "                shutil.rmtree(path_to_tcga_gbm+'/'+patient+'/'+study+'/'+mri) "
   ]
  },
  {
   "cell_type": "code",
   "execution_count": null,
   "metadata": {},
   "outputs": [],
   "source": [
    "!find . -name \\.DS_Store  -type f -delete"
   ]
  },
  {
   "cell_type": "code",
   "execution_count": null,
   "metadata": {},
   "outputs": [],
   "source": []
  }
 ],
 "metadata": {
  "kernelspec": {
   "display_name": "Python 3",
   "language": "python",
   "name": "python3"
  },
  "language_info": {
   "codemirror_mode": {
    "name": "ipython",
    "version": 3
   },
   "file_extension": ".py",
   "mimetype": "text/x-python",
   "name": "python",
   "nbconvert_exporter": "python",
   "pygments_lexer": "ipython3",
   "version": "3.6.5"
  }
 },
 "nbformat": 4,
 "nbformat_minor": 2
}
